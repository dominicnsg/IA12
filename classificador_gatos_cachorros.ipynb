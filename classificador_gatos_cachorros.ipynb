{
 "cells": [
  {
   "cell_type": "markdown",
   "id": "770819e1",
   "metadata": {},
   "source": [
    "# 📘 Classificador de Gatos vs Cachorros com Keras\n",
    "Este notebook combina o treinamento e avaliação de um modelo de deep learning com TensorFlow/Keras para classificar imagens de gatos e cachorros."
   ]
  },
  {
   "cell_type": "code",
   "execution_count": null,
   "id": "bc7d086d",
   "metadata": {},
   "outputs": [],
   "source": [
    "# 🧰 Importações\n",
    "import tensorflow as tf\n",
    "from tensorflow.keras.models import Sequential, load_model\n",
    "from tensorflow.keras.layers import Conv2D, MaxPool2D, Flatten, Dense, Dropout\n",
    "from tensorflow.keras.preprocessing.image import ImageDataGenerator, load_img, img_to_array\n",
    "from tensorflow.keras.callbacks import EarlyStopping\n",
    "import matplotlib.pyplot as plt\n",
    "from sklearn.metrics import classification_report\n",
    "import numpy as np\n",
    "import os"
   ]
  },
  {
   "cell_type": "markdown",
   "id": "e95d13b3",
   "metadata": {},
   "source": [
    "## ⚙️ Configurações\n",
    "Define os parâmetros principais como o tamanho da imagem, batch size, número de épocas e diretórios dos dados e modelo."
   ]
  },
  {
   "cell_type": "code",
   "execution_count": null,
   "id": "65e2b7d1",
   "metadata": {},
   "outputs": [],
   "source": [
    "IMG_SIZE = (128, 128)\n",
    "BATCH_SIZE = 32\n",
    "EPOCHS = 50\n",
    "DATA_DIR = 'data'\n",
    "MODEL_PATH = 'dogs_vs_cats_model.keras'"
   ]
  },
  {
   "cell_type": "markdown",
   "id": "1a3cbe00",
   "metadata": {},
   "source": [
    "## 📂 Preparação dos Dados\n",
    "Cria geradores de imagens para os conjuntos de treino e validação com aumentação de dados para melhorar a generalização."
   ]
  },
  {
   "cell_type": "code",
   "execution_count": null,
   "id": "87a34e43",
   "metadata": {},
   "outputs": [],
   "source": [
    "def prepare_data():\n",
    "    train_datagen = ImageDataGenerator(\n",
    "        rescale=1./255,\n",
    "        shear_range=0.2,\n",
    "        zoom_range=0.2,\n",
    "        horizontal_flip=True\n",
    "    )\n",
    "    validation_datagen = ImageDataGenerator(rescale=1./255)\n",
    "\n",
    "    train_set = train_datagen.flow_from_directory(\n",
    "        os.path.join(DATA_DIR, 'training_set'),\n",
    "        target_size=IMG_SIZE,\n",
    "        batch_size=BATCH_SIZE,\n",
    "        class_mode='binary'\n",
    "    )\n",
    "\n",
    "    validation_set = validation_datagen.flow_from_directory(\n",
    "        os.path.join(DATA_DIR, 'validation_set'),\n",
    "        target_size=IMG_SIZE,\n",
    "        batch_size=BATCH_SIZE,\n",
    "        class_mode='binary'\n",
    "    )\n",
    "\n",
    "    return train_set, validation_set"
   ]
  },
  {
   "cell_type": "markdown",
   "id": "89fd7a53",
   "metadata": {},
   "source": [
    "## 🏗️ Construção do Modelo\n",
    "Define a arquitetura da rede neural convolucional com camadas de convolução, pooling, dropout e densas."
   ]
  },
  {
   "cell_type": "code",
   "execution_count": null,
   "id": "d38d600d",
   "metadata": {},
   "outputs": [],
   "source": [
    "def build_model():\n",
    "    model = Sequential([\n",
    "        Conv2D(32, (3, 3), activation='relu', input_shape=(*IMG_SIZE, 3)),\n",
    "        MaxPool2D((2, 2)),\n",
    "        Conv2D(64, (3, 3), activation='relu'),\n",
    "        MaxPool2D((2, 2)),\n",
    "        Conv2D(128, (3, 3), activation='relu'),\n",
    "        MaxPool2D((2, 2)),\n",
    "        Flatten(),\n",
    "        Dense(256, activation='relu'),\n",
    "        Dropout(0.5),\n",
    "        Dense(1, activation='sigmoid')\n",
    "    ])\n",
    "    model.compile(optimizer='adam', loss='binary_crossentropy', metrics=['accuracy'])\n",
    "    return model"
   ]
  },
  {
   "cell_type": "markdown",
   "id": "89e1c46b",
   "metadata": {},
   "source": [
    "## 🚂 Treinamento do Modelo\n",
    "Treina o modelo usando os dados preparados e salva o melhor modelo com early stopping. Também plota gráficos de acurácia e perda."
   ]
  },
  {
   "cell_type": "code",
   "execution_count": null,
   "id": "dfab1f69",
   "metadata": {},
   "outputs": [],
   "source": [
    "def train():\n",
    "    train_set, validation_set = prepare_data()\n",
    "    model = build_model()\n",
    "\n",
    "    early_stop = EarlyStopping(monitor='val_loss', patience=5, restore_best_weights=True)\n",
    "    history = model.fit(\n",
    "        train_set,\n",
    "        steps_per_epoch=train_set.samples // BATCH_SIZE,\n",
    "        epochs=EPOCHS,\n",
    "        validation_data=validation_set,\n",
    "        validation_steps=validation_set.samples // BATCH_SIZE,\n",
    "        callbacks=[early_stop]\n",
    "    )\n",
    "\n",
    "    model.save(MODEL_PATH)\n",
    "\n",
    "    plt.figure(figsize=(12, 5))\n",
    "    plt.subplot(1, 2, 1)\n",
    "    plt.plot(history.history['accuracy'], label='Treino')\n",
    "    plt.plot(history.history['val_accuracy'], label='Validação')\n",
    "    plt.title('Acurácia por Época')\n",
    "    plt.legend()\n",
    "\n",
    "    plt.subplot(1, 2, 2)\n",
    "    plt.plot(history.history['loss'], label='Treino')\n",
    "    plt.plot(history.history['val_loss'], label='Validação')\n",
    "    plt.title('Loss por Época')\n",
    "    plt.legend()\n",
    "\n",
    "    plt.savefig('training_metrics.png')\n",
    "    plt.show()"
   ]
  },
  {
   "cell_type": "markdown",
   "id": "61d38a0d",
   "metadata": {},
   "source": [
    "## 🧪 Avaliação com Conjunto de Teste\n",
    "Avalia o modelo treinado usando o conjunto de teste e mostra a acurácia, perda e o relatório de classificação."
   ]
  },
  {
   "cell_type": "code",
   "execution_count": null,
   "id": "8578c58a",
   "metadata": {},
   "outputs": [],
   "source": [
    "def evaluate_model():\n",
    "    model = load_model(MODEL_PATH)\n",
    "\n",
    "    test_datagen = ImageDataGenerator(rescale=1./255)\n",
    "    test_set = test_datagen.flow_from_directory(\n",
    "        os.path.join(DATA_DIR, 'test_set'),\n",
    "        target_size=IMG_SIZE,\n",
    "        batch_size=BATCH_SIZE,\n",
    "        class_mode='binary',\n",
    "        shuffle=False\n",
    "    )\n",
    "\n",
    "    loss, accuracy = model.evaluate(test_set)\n",
    "    print(f'\\nAcurácia no Teste: {accuracy:.4f}')\n",
    "    print(f'Loss no Teste: {loss:.4f}\\n')\n",
    "\n",
    "    y_pred = (model.predict(test_set) > 0.5).astype(int)\n",
    "    print(classification_report(\n",
    "        test_set.classes,\n",
    "        y_pred,\n",
    "        target_names=test_set.class_indices.keys()\n",
    "    ))"
   ]
  },
  {
   "cell_type": "markdown",
   "id": "f433c354",
   "metadata": {},
   "source": [
    "## 🔍 Predição Individual de Imagens\n",
    "Classifica imagens individuais como gato ou cachorro com base no modelo salvo."
   ]
  },
  {
   "cell_type": "code",
   "execution_count": null,
   "id": "43d20acf",
   "metadata": {},
   "outputs": [],
   "source": [
    "def predict_image(image_path):\n",
    "    model = load_model(MODEL_PATH)\n",
    "    img = load_img(image_path, target_size=IMG_SIZE)\n",
    "    img_array = img_to_array(img) / 255.0\n",
    "    img_array = np.expand_dims(img_array, axis=0)\n",
    "\n",
    "    pred = model.predict(img_array)[0][0]\n",
    "    class_name = 'Cachorro' if pred > 0.5 else 'Gato'\n",
    "    confidence = pred if pred > 0.5 else 1 - pred\n",
    "\n",
    "    print(f'\\nImagem: {os.path.basename(image_path)}')\n",
    "    print(f'Predição: {class_name} (Confiança: {confidence:.2%})')"
   ]
  },
  {
   "cell_type": "code",
   "execution_count": null,
   "id": "a5724ed0",
   "metadata": {},
   "outputs": [],
   "source": [
    "# ▶️ Executar avaliação e predições (certifique-se de que o modelo e imagens estejam no local correto)\n",
    "evaluate_model()\n",
    "\n",
    "predict_image('images/gato1.jpg')  \n",
    "predict_image('images/gato2.jpg')\n",
    "predict_image('images/gato3.jpg') \n",
    "predict_image('images/cachorro1.jpg')\n",
    "predict_image('images/cachorro2.jpg')\n",
    "predict_image('images/cachorro3.jpg')"
   ]
  }
 ],
 "metadata": {},
 "nbformat": 4,
 "nbformat_minor": 5
}
